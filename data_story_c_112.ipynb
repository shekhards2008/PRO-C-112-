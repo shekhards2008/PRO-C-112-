{
  "nbformat": 4,
  "nbformat_minor": 0,
  "metadata": {
    "colab": {
      "name": "data story c 112.ipynb",
      "provenance": [],
      "authorship_tag": "ABX9TyMwJpd37W3oDW5mYQy/P2px",
      "include_colab_link": true
    },
    "kernelspec": {
      "name": "python3",
      "display_name": "Python 3"
    },
    "language_info": {
      "name": "python"
    }
  },
  "cells": [
    {
      "cell_type": "markdown",
      "metadata": {
        "id": "view-in-github",
        "colab_type": "text"
      },
      "source": [
        "<a href=\"https://colab.research.google.com/github/NamanJhamber/Pro-C-112/blob/main/data_story_c_112.ipynb\" target=\"_parent\"><img src=\"https://colab.research.google.com/assets/colab-badge.svg\" alt=\"Open In Colab\"/></a>"
      ]
    },
    {
      "cell_type": "code",
      "metadata": {
        "id": "sLJhfb2i9sxJ"
      },
      "source": [
        "#importing items\n",
        "import pandas as pd\n",
        "import statistics\n",
        "import plotly.express as px\n",
        "import csv\n",
        "\n",
        "#loading csv file\n",
        "df=pd.read_csv(\"data.csv\")\n",
        "\n",
        "#ploting the graph\n",
        "fig=px.scatter(df,y=\"quant_saved\",color=\"rem_any\")\n",
        "fig.show()"
      ],
      "execution_count": null,
      "outputs": []
    },
    {
      "cell_type": "code",
      "metadata": {
        "id": "-3hKVwnDCAP_"
      },
      "source": [
        "import csv\n",
        "with open('data.csv',newline=\"\")as f:\n",
        "  reader=csv.reader(f)\n",
        "  savings_data=list(reader)\n",
        "\n",
        "#to remove the title \n",
        "savings_data.pop(0)\n",
        "\n",
        "#finding total no.of people who ware reminder\n",
        "total_entries=len(savings_data)\n",
        "total_people_given_reminder=0\n",
        "for data in savings_data:\n",
        "  if int(data[3])==1:\n",
        "    total_people_given_reminder+=1\n",
        "\n",
        "import plotly.graph_objects as go\n",
        "fig=go.Figure(go.Bar(x=[\"Reminded\",\"Not Reminded\"],y=[total_people_given_reminder,(total_entries-total_people_given_reminder)]))\n",
        "fig.show()"
      ],
      "execution_count": null,
      "outputs": []
    },
    {
      "cell_type": "code",
      "metadata": {
        "id": "tSSsyVzsECDB"
      },
      "source": [
        "#finding and printing mean ,median and mode \n",
        "reminded_savings=[]\n",
        "not_raminded_savings=[]\n",
        "for data in savings_data:\n",
        "  if int(data[3])==1:\n",
        "    reminded_savings.append(float(data[0]))\n",
        "  else:\n",
        "    not_raminded_savings.append(float(data[0]))\n",
        "\n",
        "print(\"results of people who ware allowed to save -> \")\n",
        "print(f\"mean->{statistics.mean(reminded_savings)}\")      \n",
        "print(f\"median->{statistics.median(reminded_savings)}\")\n",
        "print(f\"mode->{statistics.mode(reminded_savings)}\")\n",
        "\n",
        "print(\"results of people who ware not allowed to save -> \")\n",
        "print(f\"mean->{statistics.mean(not_raminded_savings)}\")      \n",
        "print(f\"median->{statistics.median(not_raminded_savings)}\")\n",
        "print(f\"mode->{statistics.mode(not_raminded_savings)}\")\n",
        "\n",
        "print(\"results of people who ware allowed to save -> \")\n",
        "print(f\"std_dev->{statistics.stdev(reminded_savings)}\")\n",
        "\n",
        "print(\"results of people who ware not allowed to save -> \")\n",
        "print(f\"std_dev->{statistics.stdev(not_raminded_savings)}\")      "
      ],
      "execution_count": null,
      "outputs": []
    }
  ]
}